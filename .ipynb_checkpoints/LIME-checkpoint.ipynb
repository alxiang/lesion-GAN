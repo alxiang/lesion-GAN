{
 "cells": [
  {
   "cell_type": "markdown",
   "metadata": {},
   "source": [
    "Note: DenseNet currently doesn't work with LIME due to a conflict between DenseNet's preprocessing function and LIME's dependency on scikit-image"
   ]
  },
  {
   "cell_type": "code",
   "execution_count": null,
   "metadata": {},
   "outputs": [],
   "source": [
    "import os\n",
    "import keras\n",
    "from keras.preprocessing import image\n",
    "from keras.applications.imagenet_utils import decode_predictions\n",
    "from skimage.io import imread\n",
    "import matplotlib.pyplot as plt\n",
    "%matplotlib inline\n",
    "import numpy as np\n",
    "\n",
    "from keras.models import Sequential, Model\n",
    "from keras.layers import Dense, Flatten, GlobalAveragePooling2D, Lambda, Input\n",
    "\n",
    "from skimage.color import gray2rgb, rgb2gray \n",
    "from skimage.util.montage import montage2d\n",
    "\n",
    "print('Notebook run using keras:', keras.__version__)"
   ]
  },
  {
   "cell_type": "code",
   "execution_count": null,
   "metadata": {},
   "outputs": [],
   "source": [
    "# define metric\n",
    "from balancedAccuracy import balancedAccuracy\n",
    "num_classes = 3\n",
    "bacc_metric = balancedAccuracy(num_classes)"
   ]
  },
  {
   "cell_type": "code",
   "execution_count": null,
   "metadata": {},
   "outputs": [],
   "source": [
    "model = keras.models.load_model(\".../inceptionresnetv2.h5\",\n",
    "                                custom_objects={\"balanced_acc\":bacc_metric.balanced_acc})"
   ]
  },
  {
   "cell_type": "code",
   "execution_count": null,
   "metadata": {},
   "outputs": [],
   "source": [
    "model.summary()"
   ]
  },
  {
   "cell_type": "code",
   "execution_count": null,
   "metadata": {},
   "outputs": [],
   "source": [
    "testdata = np.load(\".../TESTHAM.npz\")\n",
    "testList = testdata[\"testList\"]\n",
    "targetTestList = testdata[\"targetTestList\"]"
   ]
  },
  {
   "cell_type": "code",
   "execution_count": null,
   "metadata": {},
   "outputs": [],
   "source": [
    "from keras.applications.inception_resnet_v2 import preprocess_input\n",
    "testListProc = preprocess_input(testList[0])"
   ]
  },
  {
   "cell_type": "code",
   "execution_count": null,
   "metadata": {
    "scrolled": true
   },
   "outputs": [],
   "source": [
    "np.where(np.argmax(targetTestList, 1)==2)"
   ]
  },
  {
   "cell_type": "code",
   "execution_count": null,
   "metadata": {},
   "outputs": [],
   "source": [
    "choiceSample = 0  # change this"
   ]
  },
  {
   "cell_type": "code",
   "execution_count": null,
   "metadata": {},
   "outputs": [],
   "source": [
    "targetTestList[choiceSample] "
   ]
  },
  {
   "cell_type": "code",
   "execution_count": null,
   "metadata": {
    "scrolled": true
   },
   "outputs": [],
   "source": [
    "preds = model.predict(testListProc[0].reshape(1,224,224,3))"
   ]
  },
  {
   "cell_type": "code",
   "execution_count": null,
   "metadata": {},
   "outputs": [],
   "source": [
    "%load_ext autoreload\n",
    "%autoreload 2\n",
    "import os,sys\n",
    "import lime"
   ]
  },
  {
   "cell_type": "code",
   "execution_count": null,
   "metadata": {},
   "outputs": [],
   "source": [
    "from lime.wrappers.scikit_image import SegmentationAlgorithm\n",
    "from lime import lime_image\n",
    "explainer = lime_image.LimeImageExplainer(verbose = False)\n",
    "segmenter = SegmentationAlgorithm('slic', n_segments=500, compactness=1, sigma=1)"
   ]
  },
  {
   "cell_type": "code",
   "execution_count": null,
   "metadata": {},
   "outputs": [],
   "source": [
    "%%time\n",
    "explanation = explainer.explain_instance(testListProc[choiceSample], \n",
    "                                         classifier_fn = model.predict, \n",
    "                                         top_labels=3, num_samples=500, segmentation_fn=segmenter)"
   ]
  },
  {
   "cell_type": "code",
   "execution_count": null,
   "metadata": {
    "code_folding": []
   },
   "outputs": [],
   "source": [
    "from skimage.color import label2rgb\n",
    "from skimage.segmentation import mark_boundaries\n",
    "\n",
    "temp, mask = explanation.get_image_and_mask(np.argmax(targetTestList[choiceSample]), positive_only=False,\n",
    "                                            num_features=10, hide_rest=False)\n",
    "fig, (ax1) = plt.subplots(1,1, figsize = (8, 4))\n",
    "\n",
    "ax1.axis(\"off\")\n",
    "ax1.imshow(mark_boundaries(temp / 2 + 0.5, mask))\n",
    "\n",
    "\n",
    "np.set_printoptions(suppress=True)\n",
    "np.set_printoptions(precision=3)\n",
    "ax1.set_title(['{:.3f}'.format(i) for i in preds[choiceSample]])\n",
    "ax1.title.set_fontsize(18)\n",
    "\n",
    "\n",
    "plt.savefig(\"....png\", dpi=500)"
   ]
  }
 ],
 "metadata": {
  "kernelspec": {
   "display_name": "Python 3",
   "language": "python",
   "name": "python3"
  },
  "language_info": {
   "codemirror_mode": {
    "name": "ipython",
    "version": 3
   },
   "file_extension": ".py",
   "mimetype": "text/x-python",
   "name": "python",
   "nbconvert_exporter": "python",
   "pygments_lexer": "ipython3",
   "version": "3.6.5"
  }
 },
 "nbformat": 4,
 "nbformat_minor": 2
}
