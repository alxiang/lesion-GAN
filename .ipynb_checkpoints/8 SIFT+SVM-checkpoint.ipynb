{
 "cells": [
  {
   "cell_type": "raw",
   "metadata": {},
   "source": [
    "reference: https://kushalvyas.github.io/BOV.html"
   ]
  },
  {
   "cell_type": "code",
   "execution_count": null,
   "metadata": {},
   "outputs": [],
   "source": [
    "import keras\n",
    "print(keras.__version__)\n",
    "import tensorflow\n",
    "print(tensorflow.__version__)\n",
    "import numpy as np\n",
    "print(np.__version__)\n",
    "\n",
    "from keras_tqdm import TQDMNotebookCallback\n",
    "\n",
    "from keras.preprocessing import image\n",
    "from keras.models import Model\n",
    "from keras.layers import Dense, GlobalAveragePooling2D, Dropout\n",
    "from keras import backend as K\n",
    "\n",
    "from keras.optimizers import Adam"
   ]
  },
  {
   "cell_type": "code",
   "execution_count": null,
   "metadata": {},
   "outputs": [],
   "source": [
    "# define metric\n",
    "from balancedAccuracy import balancedAccuracy\n",
    "num_classes = 3\n",
    "bacc_metric = balancedAccuracy(num_classes)"
   ]
  },
  {
   "cell_type": "code",
   "execution_count": null,
   "metadata": {},
   "outputs": [],
   "source": [
    "data = np.load(\".../HAMNOAUG.npz\")\n",
    "\n",
    "imageList = data[\"imageList\"]\n",
    "targetList = data[\"targetList\"]\n",
    "imageValList = data[\"imageValList\"]\n",
    "targetValList = data[\"targetValList\"]"
   ]
  },
  {
   "cell_type": "code",
   "execution_count": null,
   "metadata": {},
   "outputs": [],
   "source": [
    "testdata = np.load(\".../TESTHAM.npz\")\n",
    "testList = testdata[\"testList\"]\n",
    "targetTestList = testdata[\"targetTestList\"]"
   ]
  },
  {
   "cell_type": "code",
   "execution_count": null,
   "metadata": {},
   "outputs": [],
   "source": [
    "targetList = targetList[:,:3]\n",
    "targetValList = targetValList[:,:3]"
   ]
  },
  {
   "cell_type": "code",
   "execution_count": null,
   "metadata": {},
   "outputs": [],
   "source": [
    "# plot_confusion_matrix function\n",
    "import itertools\n",
    "import matplotlib.pyplot as plt\n",
    "from sklearn.metrics import confusion_matrix\n",
    "\n",
    "class_names = [\"MEL\", \"NV\", \"BKL\"]\n",
    "\n",
    "def plot_confusion_matrix(cm, classes,\n",
    "                          normalize=False,\n",
    "                          title='Confusion matrix',\n",
    "                          cmap=plt.cm.Blues):\n",
    "    \"\"\"\n",
    "    This function prints and plots the confusion matrix.\n",
    "    Normalization can be applied by setting `normalize=True`.\n",
    "    \"\"\"\n",
    "    if normalize:\n",
    "        cm = cm.astype('float') / cm.sum(axis=1)[:, np.newaxis]\n",
    "        print(\"Normalized confusion matrix\")\n",
    "    else:\n",
    "        print('Confusion matrix, without normalization')\n",
    "\n",
    "    print(np.mean(np.diag(cm)))\n",
    "        \n",
    "    plt.imshow(cm, interpolation='nearest', cmap=cmap)\n",
    "    plt.title(title)\n",
    "    plt.colorbar()\n",
    "    tick_marks = np.arange(len(classes))\n",
    "    plt.xticks(tick_marks, classes, rotation=45)\n",
    "    plt.yticks(tick_marks, classes)\n",
    "\n",
    "    fmt = '.2f' if normalize else 'd'\n",
    "    thresh = cm.max() / 2.\n",
    "    for i, j in itertools.product(range(cm.shape[0]), range(cm.shape[1])):\n",
    "        plt.text(j, i, format(cm[i, j], fmt),\n",
    "                 horizontalalignment=\"center\",\n",
    "                 color=\"white\" if cm[i, j] > thresh else \"black\")\n",
    "\n",
    "    plt.tight_layout()\n",
    "    plt.ylabel('True label')\n",
    "    plt.xlabel('Predicted label')\n",
    "    \n",
    "    # get balanced accuracy\n",
    "    return np.mean(np.diag(cm))\n"
   ]
  },
  {
   "cell_type": "code",
   "execution_count": null,
   "metadata": {},
   "outputs": [],
   "source": [
    "def valMatrix():\n",
    "    y_test = targetValList.copy()\n",
    "    y_pred = model.predict(imageValList)\n",
    "    y_pred = y_pred.argmax(1)\n",
    "    y_test = y_test.argmax(1)\n",
    "\n",
    "    cnf_matrix = confusion_matrix(y_test, y_pred)\n",
    "    np.set_printoptions(precision=2)\n",
    "    plt.figure()\n",
    "    print(\"Balanced Accuracy: \"+ str(plot_confusion_matrix(cnf_matrix, classes=class_names, normalize=True,\n",
    "                          title='Normalized Validation confusion matrix')))\n",
    "    plt.show()\n",
    "\n",
    "def trainMatrix():\n",
    "    y_test = targetList.copy()\n",
    "    y_pred = model.predict(imageList)\n",
    "    y_pred = y_pred.argmax(1)\n",
    "    y_test = y_test.argmax(1)\n",
    "\n",
    "    cnf_matrix = confusion_matrix(y_test, y_pred)\n",
    "    np.set_printoptions(precision=2)\n",
    "    plt.figure()\n",
    "    print(\"Balanced Accuracy: \"+ str(plot_confusion_matrix(cnf_matrix, classes=class_names, normalize=True,\n",
    "                          title='Normalized Training confusion matrix')))\n",
    "    plt.show()\n",
    "    \n",
    "def testMatrix():\n",
    "    y_test = targetTestList.copy()\n",
    "    y_pred = model.predict(testList)\n",
    "    y_pred = y_pred.argmax(1)\n",
    "    y_test = y_test.argmax(1)\n",
    "\n",
    "    cnf_matrix = confusion_matrix(y_test, y_pred)\n",
    "    np.set_printoptions(precision=2)\n",
    "    plt.figure()\n",
    "    print(\"Balanced Accuracy: \"+ str(plot_confusion_matrix(cnf_matrix, classes=class_names, normalize=True,\n",
    "                          title='Normalized Training confusion matrix')))\n",
    "    plt.show()"
   ]
  },
  {
   "cell_type": "code",
   "execution_count": null,
   "metadata": {},
   "outputs": [],
   "source": [
    "# get sample weights for training (class_weight doesn't work with one-hot encoding)\n",
    "weight_dict = {0:8.15, 1:1.33, 2:8.08}\n",
    "temp = targetList.argmax(1)\n",
    "sample_weights = np.array(list(map(weight_dict.get, temp)))\n",
    "\n",
    "# get sample weights for validation\n",
    "temp = targetValList.argmax(1)\n",
    "sample_weights_val = np.array(list(map(weight_dict.get, temp)))"
   ]
  },
  {
   "cell_type": "markdown",
   "metadata": {},
   "source": [
    "## SIFT Tutorial "
   ]
  },
  {
   "cell_type": "code",
   "execution_count": null,
   "metadata": {},
   "outputs": [],
   "source": [
    "import cv2\n",
    "import matplotlib.pyplot as plt"
   ]
  },
  {
   "cell_type": "code",
   "execution_count": null,
   "metadata": {},
   "outputs": [],
   "source": [
    "print(cv2.__version__)"
   ]
  },
  {
   "cell_type": "code",
   "execution_count": null,
   "metadata": {},
   "outputs": [],
   "source": [
    "def show_rgb_img(img):\n",
    "    \"\"\"Convenience function to display a typical color image\"\"\"\n",
    "    return plt.imshow(img)\n",
    "\n",
    "def to_gray(color_img):\n",
    "    gray = cv2.cvtColor(color_img, cv2.COLOR_RGB2GRAY)\n",
    "    return gray"
   ]
  },
  {
   "cell_type": "code",
   "execution_count": null,
   "metadata": {},
   "outputs": [],
   "source": [
    "lesion_img = imageList[16]\n",
    "\n",
    "show_rgb_img(lesion_img)"
   ]
  },
  {
   "cell_type": "code",
   "execution_count": null,
   "metadata": {},
   "outputs": [],
   "source": [
    "lesion_img_gray = to_gray(lesion_img)\n",
    "plt.imshow(lesion_img_gray, cmap='gray');"
   ]
  },
  {
   "cell_type": "code",
   "execution_count": null,
   "metadata": {},
   "outputs": [],
   "source": [
    "def gen_sift_features(gray_img, eps=1e-7):\n",
    "    sift = cv2.xfeatures2d.SIFT_create()\n",
    "    # kps is the keypoints\n",
    "    #\n",
    "    # desc is the SIFT descriptors, they're 128-dimensional vectors\n",
    "    # that we can use for our final features\n",
    "    kp, desc = sift.detectAndCompute(gray_img, None)\n",
    "\n",
    "    # if there are no keypoints or descriptors, return an empty tuple\n",
    "    if len(kp) == 0:\n",
    "        return ([], None)\n",
    "    \n",
    "    \n",
    "    # apply the Hellinger kernel by first L1-normalizing and taking the\n",
    "    # square-root\n",
    "    desc /= (desc.sum(axis=1, keepdims=True) + eps)\n",
    "    desc = np.sqrt(desc)\n",
    "    #desc /= (np.linalg.norm(desc, axis=1, ord=2) + eps)\n",
    "    \n",
    "    return (kp, desc)\n",
    "\n",
    "def show_sift_features(gray_img, color_img, kp):\n",
    "    return plt.imshow(cv2.drawKeypoints(gray_img, kp, color_img.copy()))"
   ]
  },
  {
   "cell_type": "code",
   "execution_count": null,
   "metadata": {},
   "outputs": [],
   "source": [
    "# generate SIFT keypoints and descriptors\n",
    "lesion_img_kp, lesion_img_desc = gen_sift_features(lesion_img_gray)\n",
    "\n",
    "print('Here are what our SIFT features look like for the lesion image:')\n",
    "show_sift_features(lesion_img_gray, lesion_img, lesion_img_kp);"
   ]
  },
  {
   "cell_type": "markdown",
   "metadata": {},
   "source": [
    "# SIFT on all training images"
   ]
  },
  {
   "cell_type": "code",
   "execution_count": null,
   "metadata": {},
   "outputs": [],
   "source": [
    "from tqdm import tqdm_notebook\n",
    "\n",
    "masterKeypoints = []\n",
    "\n",
    "for img in tqdm_notebook(imageList):\n",
    "    \n",
    "    # Convert image to grayscale\n",
    "    img_gray = to_gray(img)\n",
    "    \n",
    "    # Get m keypoints (128-length vectors) for the gray image\n",
    "    _, img_desc = gen_sift_features(img_gray)\n",
    "    \n",
    "    masterKeypoints.append(img_desc)"
   ]
  },
  {
   "cell_type": "code",
   "execution_count": null,
   "metadata": {},
   "outputs": [],
   "source": [
    "masterKeypoints[16] is None  ## Note, some descriptions have length of 0"
   ]
  },
  {
   "cell_type": "code",
   "execution_count": null,
   "metadata": {},
   "outputs": [],
   "source": [
    "# get average description length\n",
    "total = 0\n",
    "for i in range(len(masterKeypoints)):\n",
    "    if(masterKeypoints[i] is not None):\n",
    "        total+=masterKeypoints[i].shape[0]\n",
    "print(total/len(masterKeypoints))"
   ]
  },
  {
   "cell_type": "markdown",
   "metadata": {},
   "source": [
    "# Vector Quantization with KMeans (Bag of Visual Words)"
   ]
  },
  {
   "cell_type": "code",
   "execution_count": null,
   "metadata": {},
   "outputs": [],
   "source": [
    "numClusters = 100 # can use other values for this, including 200"
   ]
  },
  {
   "cell_type": "code",
   "execution_count": null,
   "metadata": {},
   "outputs": [],
   "source": [
    "from sklearn.cluster import KMeans\n",
    "\n",
    "# get all keypoints on same dimension\n",
    "allKeypoints = []\n",
    "for desc in masterKeypoints:\n",
    "    if(desc is not None):\n",
    "        for keypoint in desc:\n",
    "            allKeypoints.append(keypoint)\n",
    "\n",
    "clusters = KMeans(n_clusters=numClusters).fit(allKeypoints)"
   ]
  },
  {
   "cell_type": "code",
   "execution_count": null,
   "metadata": {},
   "outputs": [],
   "source": [
    "def developVocabulary(n_images, descriptor_list, kmeans_ret):\n",
    "\n",
    "    \"\"\"\n",
    "    Each cluster denotes a particular visual word \n",
    "    Every image can be represeted as a combination of multiple \n",
    "    visual words. The best method is to generate a sparse histogram\n",
    "    that contains the frequency of occurence of each visual word \n",
    "    Thus the vocabulary comprises of a set of histograms of encompassing\n",
    "    all descriptions for all images\n",
    "    \"\"\"\n",
    "\n",
    "    mega_histogram = np.array([np.zeros(numClusters) for i in range(n_images)])\n",
    "    old_count = 0\n",
    "    for i in range(n_images):\n",
    "        if(descriptor_list[i] is not None):\n",
    "            l = len(descriptor_list[i])\n",
    "        else:\n",
    "            l = 0\n",
    "            \n",
    "        for j in range(l):\n",
    "            idx = kmeans_ret[old_count+j]\n",
    "            mega_histogram[i][idx] += 1\n",
    "        old_count += l\n",
    "    print(\"Vocabulary Histogram Generated\")\n",
    "    \n",
    "    return mega_histogram"
   ]
  },
  {
   "cell_type": "code",
   "execution_count": null,
   "metadata": {},
   "outputs": [],
   "source": [
    "megaHistogram = developVocabulary(len(imageList), masterKeypoints, clusters.predict(allKeypoints))"
   ]
  },
  {
   "cell_type": "markdown",
   "metadata": {},
   "source": [
    "# SVM"
   ]
  },
  {
   "cell_type": "code",
   "execution_count": null,
   "metadata": {},
   "outputs": [],
   "source": [
    "from sklearn.svm import SVC\n",
    "\n",
    "clf = SVC(C=.5, class_weight=weight_dict) # make classifier object\n",
    "clf.fit(megaHistogram, targetList.argmax(1)) # train the model\n"
   ]
  },
  {
   "cell_type": "code",
   "execution_count": null,
   "metadata": {},
   "outputs": [],
   "source": [
    "# Get Training Confusion Matrix\n",
    "predictions = clf.predict(megaHistogram)\n",
    "\n",
    "\n",
    "y_test = targetList.copy()\n",
    "y_pred = predictions\n",
    "y_test = y_test.argmax(1)\n",
    "\n",
    "cnf_matrix = confusion_matrix(y_test, y_pred)\n",
    "np.set_printoptions(precision=2)\n",
    "plt.figure()\n",
    "print(\"Balanced Accuracy: \"+ str(plot_confusion_matrix(cnf_matrix, classes=class_names, normalize=True,\n",
    "                      title='Normalized Training confusion matrix')))\n",
    "plt.show()"
   ]
  },
  {
   "cell_type": "markdown",
   "metadata": {},
   "source": [
    "# SIFT+SVM on Validation Set"
   ]
  },
  {
   "cell_type": "code",
   "execution_count": null,
   "metadata": {},
   "outputs": [],
   "source": [
    "from tqdm import tqdm_notebook\n",
    "\n",
    "masterKeypoints2 = []\n",
    "\n",
    "for img in tqdm_notebook(imageValList):\n",
    "    \n",
    "    # Convert image to grayscale\n",
    "    img_gray = to_gray(img)\n",
    "    \n",
    "    # Get m keypoints (128-length vectors) for the gray image\n",
    "    _, img_desc = gen_sift_features(img_gray)\n",
    "    \n",
    "    masterKeypoints2.append(img_desc)"
   ]
  },
  {
   "cell_type": "code",
   "execution_count": null,
   "metadata": {},
   "outputs": [],
   "source": [
    "from sklearn.cluster import KMeans\n",
    "\n",
    "# get all keypoints on same dimension\n",
    "allKeypoints2 = []\n",
    "for desc in masterKeypoints2:\n",
    "    if(desc is not None):\n",
    "        for keypoint in desc:\n",
    "            allKeypoints2.append(keypoint)"
   ]
  },
  {
   "cell_type": "code",
   "execution_count": null,
   "metadata": {},
   "outputs": [],
   "source": [
    "megaValHistogram = developVocabulary(len(imageValList), masterKeypoints2, clusters.predict(allKeypoints2))"
   ]
  },
  {
   "cell_type": "code",
   "execution_count": null,
   "metadata": {},
   "outputs": [],
   "source": [
    "megaValHistogram.shape"
   ]
  },
  {
   "cell_type": "code",
   "execution_count": null,
   "metadata": {},
   "outputs": [],
   "source": [
    "predictions = clf.predict(megaValHistogram)\n",
    "\n",
    "# Get Validation Confusion Matrix\n",
    "y_test = targetValList.copy()\n",
    "y_pred = predictions\n",
    "y_test = y_test.argmax(1)\n",
    "\n",
    "cnf_matrix = confusion_matrix(y_test, y_pred)\n",
    "np.set_printoptions(precision=2)\n",
    "plt.figure()\n",
    "print(\"Balanced Accuracy: \"+ str(plot_confusion_matrix(cnf_matrix, classes=class_names, normalize=True,\n",
    "                      title='Normalized Validation confusion matrix')))\n",
    "plt.show()\n"
   ]
  },
  {
   "cell_type": "markdown",
   "metadata": {},
   "source": [
    "# SIFT+SVM on Test Set"
   ]
  },
  {
   "cell_type": "code",
   "execution_count": null,
   "metadata": {},
   "outputs": [],
   "source": [
    "from tqdm import tqdm_notebook\n",
    "\n",
    "masterKeypoints3 = []\n",
    "\n",
    "for img in tqdm_notebook(testList):\n",
    "    \n",
    "    # Convert image to grayscale\n",
    "    img_gray = to_gray(img)\n",
    "    \n",
    "    # Get m keypoints (128-length vectors) for the gray image\n",
    "    _, img_desc = gen_sift_features(img_gray)\n",
    "    \n",
    "    masterKeypoints3.append(img_desc)"
   ]
  },
  {
   "cell_type": "code",
   "execution_count": null,
   "metadata": {},
   "outputs": [],
   "source": [
    "# get all keypoints on same dimension\n",
    "allKeypoints3 = []\n",
    "for desc in masterKeypoints3:\n",
    "    if(desc is not None):\n",
    "        for keypoint in desc:\n",
    "            allKeypoints3.append(keypoint)"
   ]
  },
  {
   "cell_type": "code",
   "execution_count": null,
   "metadata": {},
   "outputs": [],
   "source": [
    "megaTestHistogram = developVocabulary(len(testList), masterKeypoints3, clusters.predict(allKeypoints3))"
   ]
  },
  {
   "cell_type": "code",
   "execution_count": null,
   "metadata": {},
   "outputs": [],
   "source": [
    "megaTestHistogram.shape"
   ]
  },
  {
   "cell_type": "code",
   "execution_count": null,
   "metadata": {},
   "outputs": [],
   "source": [
    "predictions = clf.predict(megaTestHistogram)\n",
    "\n",
    "# Get Validation Confusion Matrix\n",
    "y_test = targetTestList.copy()\n",
    "y_pred = predictions\n",
    "y_test = y_test.argmax(1)\n",
    "\n",
    "cnf_matrix = confusion_matrix(y_test, y_pred)\n",
    "np.set_printoptions(precision=2)\n",
    "plt.figure()\n",
    "print(\"Balanced Accuracy: \"+ str(plot_confusion_matrix(cnf_matrix, classes=class_names, normalize=True,\n",
    "                      title='Normalized Validation confusion matrix')))\n",
    "plt.show()"
   ]
  }
 ],
 "metadata": {
  "kernelspec": {
   "display_name": "Python 3",
   "language": "python",
   "name": "python3"
  },
  "language_info": {
   "codemirror_mode": {
    "name": "ipython",
    "version": 3
   },
   "file_extension": ".py",
   "mimetype": "text/x-python",
   "name": "python",
   "nbconvert_exporter": "python",
   "pygments_lexer": "ipython3",
   "version": "3.6.5"
  }
 },
 "nbformat": 4,
 "nbformat_minor": 2
}
