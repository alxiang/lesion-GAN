{
 "cells": [
  {
   "cell_type": "code",
   "execution_count": 1,
   "metadata": {},
   "outputs": [],
   "source": [
    "import pandas as pd\n",
    "import numpy as np\n",
    "import cv2\n",
    "from skimage import color\n",
    "from skimage import io\n",
    "\n",
    "from scipy import misc"
   ]
  },
  {
   "cell_type": "code",
   "execution_count": 2,
   "metadata": {},
   "outputs": [],
   "source": [
    "TEST = pd.read_csv(\"Principal: Processed Images/TEST.csv\", index_col=0)\n",
    "TRAIN = pd.read_csv(\"Principal: Processed Images/TRAIN.csv\", index_col=0)"
   ]
  },
  {
   "cell_type": "code",
   "execution_count": 3,
   "metadata": {},
   "outputs": [
    {
     "data": {
      "text/plain": [
       "MEL                                                    1909\n",
       "NV                                                    17225\n",
       "BCC                                                     444\n",
       "AKIEC                                                   264\n",
       "BKL                                                    1298\n",
       "DF                                                       99\n",
       "VASC                                                    114\n",
       "origin    ISIC2018_Task3_Training_Input/ISIC2018_Task3_T...\n",
       "dtype: object"
      ]
     },
     "execution_count": 3,
     "metadata": {},
     "output_type": "execute_result"
    }
   ],
   "source": [
    "TRAIN.sum()"
   ]
  },
  {
   "cell_type": "code",
   "execution_count": 4,
   "metadata": {},
   "outputs": [
    {
     "data": {
      "text/plain": [
       "Index(['MEL', 'NV', 'BCC', 'AKIEC', 'BKL', 'DF', 'VASC', 'origin'], dtype='object')"
      ]
     },
     "execution_count": 4,
     "metadata": {},
     "output_type": "execute_result"
    }
   ],
   "source": [
    "TRAIN.columns"
   ]
  },
  {
   "cell_type": "code",
   "execution_count": 5,
   "metadata": {},
   "outputs": [],
   "source": [
    "TRAIN = TRAIN.drop(TRAIN[(TRAIN.BCC == 1) | (TRAIN.AKIEC == 1) | (TRAIN.DF == 1) | (TRAIN.VASC == 1)].index)\n",
    "TEST = TEST.drop(TEST[(TEST.BCC == 1) | (TEST.AKIEC == 1) | (TEST.DF == 1) | (TEST.VASC == 1)].index)"
   ]
  },
  {
   "cell_type": "code",
   "execution_count": 6,
   "metadata": {},
   "outputs": [],
   "source": [
    "TRAIN = TRAIN.drop([\"BCC\", \"AKIEC\", \"DF\", \"VASC\"], axis = 1)\n",
    "TEST = TEST.drop([\"BCC\", \"AKIEC\", \"DF\", \"VASC\"], axis = 1)"
   ]
  },
  {
   "cell_type": "code",
   "execution_count": 7,
   "metadata": {},
   "outputs": [
    {
     "data": {
      "text/plain": [
       "MEL                                                     223\n",
       "NV                                                     1341\n",
       "BKL                                                     220\n",
       "origin    ISIC2018_Task3_Training_Input/ISIC2018_Task3_T...\n",
       "dtype: object"
      ]
     },
     "execution_count": 7,
     "metadata": {},
     "output_type": "execute_result"
    }
   ],
   "source": [
    "TEST.sum()"
   ]
  },
  {
   "cell_type": "code",
   "execution_count": 8,
   "metadata": {},
   "outputs": [],
   "source": [
    "TEST.to_csv(\"Principal: Processed Images/TESTmod.csv\")\n",
    "TRAIN.to_csv(\"Principal: Processed Images/TRAINmod.csv\")"
   ]
  },
  {
   "cell_type": "code",
   "execution_count": null,
   "metadata": {},
   "outputs": [],
   "source": []
  }
 ],
 "metadata": {
  "kernelspec": {
   "display_name": "Python 3",
   "language": "python",
   "name": "python3"
  },
  "language_info": {
   "codemirror_mode": {
    "name": "ipython",
    "version": 3
   },
   "file_extension": ".py",
   "mimetype": "text/x-python",
   "name": "python",
   "nbconvert_exporter": "python",
   "pygments_lexer": "ipython3",
   "version": "3.6.5"
  }
 },
 "nbformat": 4,
 "nbformat_minor": 2
}
