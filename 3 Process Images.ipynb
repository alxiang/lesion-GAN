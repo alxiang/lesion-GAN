{
 "cells": [
  {
   "cell_type": "markdown",
   "metadata": {
    "toc": true
   },
   "source": [
    "<h1>Table of Contents<span class=\"tocSkip\"></span></h1>\n",
    "<div class=\"toc\"><ul class=\"toc-item\"><li><span><a href=\"#Process-TEST-set\" data-toc-modified-id=\"Process-TEST-set-1\"><span class=\"toc-item-num\">1&nbsp;&nbsp;</span>Process TEST set</a></span></li><li><span><a href=\"#Process-TRAIN-set\" data-toc-modified-id=\"Process-TRAIN-set-2\"><span class=\"toc-item-num\">2&nbsp;&nbsp;</span>Process TRAIN set</a></span></li></ul></div>"
   ]
  },
  {
   "cell_type": "raw",
   "metadata": {},
   "source": [
    "Code can be made faster by changing order of \"if\" statements to reduce operations"
   ]
  },
  {
   "cell_type": "code",
   "execution_count": 1,
   "metadata": {},
   "outputs": [],
   "source": [
    "import pandas as pd\n",
    "import numpy as np\n",
    "import cv2\n",
    "from skimage import color\n",
    "from skimage import io\n",
    "\n",
    "from scipy import misc"
   ]
  },
  {
   "cell_type": "code",
   "execution_count": 2,
   "metadata": {},
   "outputs": [],
   "source": [
    "TEST = pd.read_csv(\"Principal: Processed Images/TESTmod.csv\", index_col=0)\n",
    "TRAIN = pd.read_csv(\"Principal: Processed Images/TRAINmod.csv\", index_col=0)"
   ]
  },
  {
   "cell_type": "code",
   "execution_count": 3,
   "metadata": {},
   "outputs": [
    {
     "data": {
      "text/plain": [
       "(20432, 4)"
      ]
     },
     "execution_count": 3,
     "metadata": {},
     "output_type": "execute_result"
    }
   ],
   "source": [
    "TRAIN.shape\n"
   ]
  },
  {
   "cell_type": "code",
   "execution_count": 4,
   "metadata": {},
   "outputs": [
    {
     "data": {
      "text/plain": [
       "MEL                                                     890\n",
       "NV                                                     5364\n",
       "BKL                                                     879\n",
       "origin    ISIC2018_Task3_Training_Input/ISIC2018_Task3_T...\n",
       "dtype: object"
      ]
     },
     "execution_count": 4,
     "metadata": {},
     "output_type": "execute_result"
    }
   ],
   "source": [
    "TRAIN = TRAIN[TRAIN.origin==\"ISIC2018_Task3_Training_Input/\"]\n",
    "TRAIN.sum()"
   ]
  },
  {
   "cell_type": "code",
   "execution_count": 5,
   "metadata": {},
   "outputs": [],
   "source": [
    "# Grey world color correction algorithm\n",
    "#from https://gist.github.com/shunsukeaihara/4603234\n",
    "\n",
    "def grey_world(nimg):\n",
    "    nimg = nimg.transpose(2, 0, 1).astype(np.uint32)\n",
    "    mu_g = np.average(nimg[1])\n",
    "    nimg[0] = np.minimum(nimg[0]*(mu_g/np.average(nimg[0])),255)\n",
    "    nimg[2] = np.minimum(nimg[2]*(mu_g/np.average(nimg[2])),255)\n",
    "    return nimg.transpose(1, 2, 0).astype(np.uint8)"
   ]
  },
  {
   "cell_type": "markdown",
   "metadata": {},
   "source": [
    "## Process TEST set"
   ]
  },
  {
   "cell_type": "code",
   "execution_count": null,
   "metadata": {},
   "outputs": [],
   "source": [
    "# \"Principal: Processed Images/Data v1\" function for TEST.csv\n",
    "# Processes only HAM10000 images\n",
    "import numpy as np\n",
    "\n",
    "def process_image(name): # takes filename of the lesion sample\n",
    "    img = io.imread(\"ISIC2018_Task3_Training_Input/\"+name+\".jpg\")\n",
    "    img = grey_world(img)\n",
    "    img = img[22:22+405, 22:22+405, :]\n",
    "    img = cv2.resize(img, dsize=(224, 224))#, interpolation=cv2.INTER_CUBIC)\n",
    "\n",
    "    misc.imsave(\"Processed Images/TEST/\"+ name+\".jpg\", img)"
   ]
  },
  {
   "cell_type": "code",
   "execution_count": null,
   "metadata": {},
   "outputs": [],
   "source": [
    "import time\n",
    "from tqdm import tqdm_notebook\n",
    "start = time.time()\n",
    "for lesion in tqdm_notebook(TEST.index):\n",
    "    process_image(lesion)\n",
    "    \n",
    "end = time.time()\n",
    "print(\"Run time for \"+ str(len(TEST.index)) + \" images: \" + str((end - start)/60)+\" minutes\")    "
   ]
  },
  {
   "cell_type": "code",
   "execution_count": 6,
   "metadata": {},
   "outputs": [
    {
     "data": {
      "text/plain": [
       "1784"
      ]
     },
     "execution_count": 6,
     "metadata": {},
     "output_type": "execute_result"
    }
   ],
   "source": [
    "from glob import glob\n",
    "filelist = glob(\"Processed Images/TEST/ISIC_*.jpg\")\n",
    "len(filelist)"
   ]
  },
  {
   "cell_type": "markdown",
   "metadata": {},
   "source": [
    "## Process TRAIN set"
   ]
  },
  {
   "cell_type": "code",
   "execution_count": null,
   "metadata": {},
   "outputs": [],
   "source": [
    "# Find out where each image is\n",
    "\n",
    "MSK1 = glob(\"ISIC Archival Images/MSK-1/ISIC_*.jpg\")\n",
    "MSK2 = glob(\"ISIC Archival Images/MSK-2/ISIC_*.jpg\")\n",
    "MSK3 = glob(\"ISIC Archival Images/MSK-3/ISIC_*.jpg\")\n",
    "MSK4 = glob(\"ISIC Archival Images/MSK-4/ISIC_*.jpg\")\n",
    "MSK5 = glob(\"ISIC Archival Images/MSK-5/ISIC_*.jpg\")\n",
    "SONIC = glob(\"ISIC Archival Images/SONIC/ISIC_*.jpg\")\n",
    "UDA1 = glob(\"ISIC Archival Images/UDA-1/ISIC_*.jpg\")\n",
    "UDA2 = glob(\"ISIC Archival Images/UDA-2/ISIC_*.jpg\")\n",
    "\n",
    "allsets = [MSK1, MSK2, MSK3, MSK4, MSK5, SONIC, UDA1, UDA2]\n",
    "for dataset in allsets:\n",
    "    for i in range(len(dataset)):\n",
    "        dataset[i] = dataset[i][27:-4]\n",
    "HAM = glob(\"ISIC2018_Task3_Training_Input/ISIC_*.jpg\")\n",
    "for i in range(len(HAM)):\n",
    "    HAM[i] = HAM[i][30:-4]\n"
   ]
  },
  {
   "cell_type": "code",
   "execution_count": 7,
   "metadata": {},
   "outputs": [],
   "source": [
    "def process_steps(img, name): # performs same steps as process_image but saves img in TRAIN\n",
    "    img = grey_world(img)\n",
    "    img = cv2.resize(img, dsize=(450, 600))#, interpolation=cv2.INTER_CUBIC)\n",
    "    xrand = np.random.randint(0,45)\n",
    "    yrand = np.random.randint(0,45)\n",
    "    img = img[xrand:xrand+405, yrand:yrand+405, :]\n",
    "    img = cv2.resize(img, dsize=(256, 256))#, interpolation=cv2.INTER_CUBIC)\n",
    "\n",
    "    \n",
    "    misc.imsave(\"Processed Images/TRAIN/\"+ name+\".jpg\", img)"
   ]
  },
  {
   "cell_type": "code",
   "execution_count": 8,
   "metadata": {},
   "outputs": [],
   "source": [
    "# \"Processed Images/Data\" function for TRAIN.csv\n",
    "# Processes images for each directory\n",
    "\n",
    "def process_images_all(name):\n",
    "    img = io.imread(TRAIN.loc[name][\"origin\"]+name+\".jpg\")\n",
    "    process_steps(img, name)\n",
    "    "
   ]
  },
  {
   "cell_type": "code",
   "execution_count": 11,
   "metadata": {},
   "outputs": [
    {
     "data": {
      "application/vnd.jupyter.widget-view+json": {
       "model_id": "f0d342a9ca1d40b2b01d29a9a6161dc8",
       "version_major": 2,
       "version_minor": 0
      },
      "text/plain": [
       "HBox(children=(IntProgress(value=0, max=7133), HTML(value='')))"
      ]
     },
     "metadata": {},
     "output_type": "display_data"
    },
    {
     "name": "stderr",
     "output_type": "stream",
     "text": [
      "/Users/alecx/anaconda3/lib/python3.6/site-packages/ipykernel_launcher.py:10: DeprecationWarning: `imsave` is deprecated!\n",
      "`imsave` is deprecated in SciPy 1.0.0, and will be removed in 1.2.0.\n",
      "Use ``imageio.imwrite`` instead.\n",
      "  # Remove the CWD from sys.path while we load stuff.\n"
     ]
    },
    {
     "name": "stdout",
     "output_type": "stream",
     "text": [
      "\n",
      "Run time for 7133 images: 1.963 minutes\n"
     ]
    }
   ],
   "source": [
    "import time\n",
    "from tqdm import tqdm_notebook\n",
    "\n",
    "start = time.time()\n",
    "for lesion in tqdm_notebook(TRAIN.index):\n",
    "    process_images_all(lesion)\n",
    "     \n",
    "end = time.time()\n",
    "print(\"Run time for \"+ str(len(TRAIN.index)) + \" images: \" + str(round((end - start)/60, 3))+\" minutes\")    \n"
   ]
  },
  {
   "cell_type": "code",
   "execution_count": null,
   "metadata": {},
   "outputs": [],
   "source": [
    "filelist = glob(\"Principal: Processed Images/TRAIN/ISIC_*.jpg\")\n",
    "len(filelist)"
   ]
  },
  {
   "cell_type": "code",
   "execution_count": null,
   "metadata": {},
   "outputs": [],
   "source": []
  }
 ],
 "metadata": {
  "kernelspec": {
   "display_name": "Python 3",
   "language": "python",
   "name": "python3"
  },
  "language_info": {
   "codemirror_mode": {
    "name": "ipython",
    "version": 3
   },
   "file_extension": ".py",
   "mimetype": "text/x-python",
   "name": "python",
   "nbconvert_exporter": "python",
   "pygments_lexer": "ipython3",
   "version": "3.6.5"
  },
  "toc": {
   "nav_menu": {},
   "number_sections": true,
   "sideBar": true,
   "skip_h1_title": true,
   "title_cell": "Table of Contents",
   "title_sidebar": "Contents",
   "toc_cell": true,
   "toc_position": {},
   "toc_section_display": true,
   "toc_window_display": false
  }
 },
 "nbformat": 4,
 "nbformat_minor": 2
}
