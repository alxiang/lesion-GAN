{
 "cells": [
  {
   "cell_type": "code",
   "execution_count": null,
   "metadata": {},
   "outputs": [],
   "source": [
    "import keras\n",
    "print(keras.__version__)\n",
    "import tensorflow\n",
    "print(tensorflow.__version__)\n",
    "import numpy as np\n",
    "print(np.__version__)\n",
    "\n",
    "from keras_tqdm import TQDMNotebookCallback\n",
    "\n",
    "\n",
    "from keras.applications.densenet import DenseNet201\n",
    "from keras.preprocessing import image\n",
    "from keras.applications.densenet import preprocess_input, decode_predictions\n",
    "from keras.models import Model\n",
    "from keras.layers import Dense, GlobalAveragePooling2D, Dropout\n",
    "from keras import backend as K\n",
    "\n",
    "from keras.optimizers import Adam"
   ]
  },
  {
   "cell_type": "code",
   "execution_count": null,
   "metadata": {},
   "outputs": [],
   "source": [
    "base_model = DenseNet201(weights='imagenet', include_top=False, input_shape=(224,224,3))\n",
    "base_model.summary()"
   ]
  },
  {
   "cell_type": "code",
   "execution_count": null,
   "metadata": {},
   "outputs": [],
   "source": [
    "from keras import layers\n",
    "from keras import models\n",
    "\n",
    "model = models.Sequential()\n",
    "model.add(base_model)\n",
    "model.add(layers.GlobalAveragePooling2D())\n",
    "model.add(layers.BatchNormalization())\n",
    "model.add(layers.Dense(3, activation='softmax'))"
   ]
  },
  {
   "cell_type": "code",
   "execution_count": null,
   "metadata": {},
   "outputs": [],
   "source": [
    "model.summary()"
   ]
  },
  {
   "cell_type": "code",
   "execution_count": null,
   "metadata": {},
   "outputs": [],
   "source": [
    "# define metric\n",
    "from balancedAccuracy import balancedAccuracy\n",
    "num_classes = 3\n",
    "bacc_metric = balancedAccuracy(num_classes)"
   ]
  },
  {
   "cell_type": "code",
   "execution_count": null,
   "metadata": {},
   "outputs": [],
   "source": [
    "# plot_confusion_matrix function\n",
    "import itertools\n",
    "import matplotlib.pyplot as plt\n",
    "from sklearn.metrics import confusion_matrix\n",
    "\n",
    "class_names = [\"MEL\", \"NV\", \"BKL\"]\n",
    "\n",
    "def plot_confusion_matrix(cm, classes,\n",
    "                          normalize=False,\n",
    "                          title='Confusion matrix',\n",
    "                          cmap=plt.cm.Blues):\n",
    "    \"\"\"\n",
    "    This function prints and plots the confusion matrix.\n",
    "    Normalization can be applied by setting `normalize=True`.\n",
    "    \"\"\"\n",
    "    if normalize:\n",
    "        cm = cm.astype('float') / cm.sum(axis=1)[:, np.newaxis]\n",
    "        print(\"Normalized confusion matrix\")\n",
    "    else:\n",
    "        print('Confusion matrix, without normalization')\n",
    "\n",
    "    print(np.mean(np.diag(cm)))\n",
    "        \n",
    "    plt.imshow(cm, interpolation='nearest', cmap=cmap)\n",
    "    plt.title(title)\n",
    "    plt.colorbar()\n",
    "    tick_marks = np.arange(len(classes))\n",
    "    plt.xticks(tick_marks, classes, rotation=45)\n",
    "    plt.yticks(tick_marks, classes)\n",
    "\n",
    "    fmt = '.2f' if normalize else 'd'\n",
    "    thresh = cm.max() / 2.\n",
    "    for i, j in itertools.product(range(cm.shape[0]), range(cm.shape[1])):\n",
    "        plt.text(j, i, format(cm[i, j], fmt),\n",
    "                 horizontalalignment=\"center\",\n",
    "                 color=\"white\" if cm[i, j] > thresh else \"black\")\n",
    "\n",
    "    plt.tight_layout()\n",
    "    plt.ylabel('True label')\n",
    "    plt.xlabel('Predicted label')\n",
    "    \n",
    "    # get balanced accuracy\n",
    "    return np.mean(np.diag(cm))\n",
    "    \n"
   ]
  },
  {
   "cell_type": "code",
   "execution_count": null,
   "metadata": {},
   "outputs": [],
   "source": [
    "data = np.load(\".../HAMAUG.npz\")\n",
    "\n",
    "imageList = data[\"imageList\"]\n",
    "targetList = data[\"targetList\"]\n",
    "imageValList = data[\"imageValList\"]\n",
    "targetValList = data[\"targetValList\"]\n",
    "\n",
    "targetList = targetList[:,:3]\n",
    "targetValList= targetValList[:,:3]"
   ]
  },
  {
   "cell_type": "code",
   "execution_count": null,
   "metadata": {},
   "outputs": [],
   "source": [
    "testdata = np.load(\".../TESTHAM.npz\")\n",
    "testList = testdata[\"testList\"]\n",
    "targetTestList = testdata[\"targetTestList\"]"
   ]
  },
  {
   "cell_type": "code",
   "execution_count": null,
   "metadata": {},
   "outputs": [],
   "source": [
    "def valMatrix():\n",
    "    y_test = targetValList.copy()\n",
    "    y_pred = model.predict(imageValList)\n",
    "    y_pred = y_pred.argmax(1)\n",
    "    y_test = y_test.argmax(1)\n",
    "\n",
    "    cnf_matrix = confusion_matrix(y_test, y_pred)\n",
    "    np.set_printoptions(precision=2)\n",
    "    plt.figure()\n",
    "    print(\"Balanced Accuracy: \"+ str(plot_confusion_matrix(cnf_matrix, classes=class_names, normalize=True,\n",
    "                          title='Normalized Validation confusion matrix')))\n",
    "    plt.show()\n",
    "\n",
    "def trainMatrix():\n",
    "    y_test = targetListUltra.copy()\n",
    "    y_pred = model.predict(imageListUltra)\n",
    "    y_pred = y_pred.argmax(1)\n",
    "    y_test = y_test.argmax(1)\n",
    "\n",
    "    cnf_matrix = confusion_matrix(y_test, y_pred)\n",
    "    np.set_printoptions(precision=2)\n",
    "    plt.figure()\n",
    "    print(\"Balanced Accuracy: \"+ str(plot_confusion_matrix(cnf_matrix, classes=class_names, normalize=True,\n",
    "                          title='Normalized Training confusion matrix')))\n",
    "    plt.show()\n",
    "    \n",
    "def testMatrix():\n",
    "    y_test = targetTestList.copy()\n",
    "    y_pred = model.predict(testList)\n",
    "    y_pred = y_pred.argmax(1)\n",
    "    y_test = y_test.argmax(1)\n",
    "\n",
    "    cnf_matrix = confusion_matrix(y_test, y_pred)\n",
    "    np.set_printoptions(precision=2)\n",
    "    plt.figure()\n",
    "    print(\"Balanced Accuracy: \"+ str(plot_confusion_matrix(cnf_matrix, classes=class_names, normalize=True,\n",
    "                          title='Normalized Training confusion matrix')))\n",
    "    plt.show()"
   ]
  },
  {
   "cell_type": "markdown",
   "metadata": {},
   "source": [
    "## Additional Data Augmentation with AC-GAN"
   ]
  },
  {
   "cell_type": "code",
   "execution_count": null,
   "metadata": {},
   "outputs": [],
   "source": [
    "targetList.sum(axis=0)/5, targetTestList.sum(axis=0)"
   ]
  },
  {
   "cell_type": "code",
   "execution_count": null,
   "metadata": {},
   "outputs": [],
   "source": [
    "sumos = targetList.sum(axis=0)/5 # /5 to account for traditional augmentation\n",
    "GAUG_FACTOR = float(input()) # varying this value varies the level of GAN-augmentation\n",
    "\n",
    "GAUG_LVL = np.round(sumos*GAUG_FACTOR).astype(int) # for use in generation\n",
    "print(GAUG_LVL)"
   ]
  },
  {
   "cell_type": "code",
   "execution_count": null,
   "metadata": {},
   "outputs": [],
   "source": [
    "from keras.models import model_from_json, load_model\n",
    "import json\n",
    "import cv2 # pip install opencv-python\n",
    "\n",
    "json_file = open('ACGAN-weights/generator.json', 'r')\n",
    "generator_json = json_file.read()\n",
    "json_file.close()\n",
    "generator = model_from_json(generator_json)\n",
    "generator.load_weights('ACGAN-weights/generator_weights.hdf5')"
   ]
  },
  {
   "cell_type": "code",
   "execution_count": null,
   "metadata": {},
   "outputs": [],
   "source": [
    "noise = np.random.normal(0, 1, (GAUG_LVL[0], 128))\n",
    "sampled_labels_MEL = np.zeros((GAUG_LVL[0],))\n",
    "                          \n",
    "MEL_64 = 0.5*generator.predict([noise, sampled_labels_MEL]) + 0.5\n",
    "\n",
    "MEL = []\n",
    "\n",
    "for i in range(MEL_64.shape[0]):\n",
    "    res = cv2.resize(MEL_64[i], dsize=(224, 224), interpolation=cv2.INTER_LANCZOS4)\n",
    "    MEL.append(res)"
   ]
  },
  {
   "cell_type": "code",
   "execution_count": null,
   "metadata": {},
   "outputs": [],
   "source": [
    "MEL = np.array(MEL)\n",
    "print(MEL.shape)"
   ]
  },
  {
   "cell_type": "code",
   "execution_count": null,
   "metadata": {},
   "outputs": [],
   "source": [
    "noise = np.random.normal(0, 1, (GAUG_LVL[1], 128))\n",
    "sampled_labels_NEV = np.zeros((GAUG_LVL[1],)) + 1\n",
    "                          \n",
    "NEV_64 = 0.5*generator.predict([noise, sampled_labels_NEV]) + 0.5\n",
    "\n",
    "NEV = []\n",
    "\n",
    "for i in range(NEV_64.shape[0]):\n",
    "    res = cv2.resize(NEV_64[i], dsize=(224, 224), interpolation=cv2.INTER_LANCZOS4)\n",
    "    NEV.append(res)"
   ]
  },
  {
   "cell_type": "code",
   "execution_count": null,
   "metadata": {},
   "outputs": [],
   "source": [
    "NEV = np.array(NEV)\n",
    "print(NEV.shape)"
   ]
  },
  {
   "cell_type": "code",
   "execution_count": null,
   "metadata": {},
   "outputs": [],
   "source": [
    "noise = np.random.normal(0, 1, (GAUG_LVL[2], 128))\n",
    "sampled_labels_BKL = np.zeros((GAUG_LVL[2],)) + 2\n",
    "                          \n",
    "BKL_64 = 0.5*generator.predict([noise, sampled_labels_BKL]) + 0.5\n",
    "\n",
    "BKL = []\n",
    "\n",
    "for i in range(BKL_64.shape[0]):\n",
    "    res = cv2.resize(BKL_64[i], dsize=(224, 224), interpolation=cv2.INTER_LANCZOS4)\n",
    "    BKL.append(res)"
   ]
  },
  {
   "cell_type": "code",
   "execution_count": null,
   "metadata": {},
   "outputs": [],
   "source": [
    "BKL = np.array(BKL)\n",
    "print(BKL.shape)"
   ]
  },
  {
   "cell_type": "code",
   "execution_count": null,
   "metadata": {},
   "outputs": [],
   "source": [
    "imageListUltra = np.concatenate([imageList, MEL,NEV,BKL])"
   ]
  },
  {
   "cell_type": "code",
   "execution_count": null,
   "metadata": {},
   "outputs": [],
   "source": [
    "targetListUltra = np.concatenate([targetList.argmax(axis=1), sampled_labels_MEL,sampled_labels_NEV,sampled_labels_BKL])"
   ]
  },
  {
   "cell_type": "markdown",
   "metadata": {},
   "source": [
    "## TRAIN"
   ]
  },
  {
   "cell_type": "code",
   "execution_count": null,
   "metadata": {},
   "outputs": [],
   "source": [
    "# get sample weights for training (sk's class_weight doesn't work with one-hot encoding)\n",
    "weight_dict = {0:8.15, 1:1.33, 2:8.08}\n",
    "sample_weights = np.array(list(map(weight_dict.get, targetListUltra)))\n",
    "\n",
    "# get sample weights for validation\n",
    "temp = targetValList.argmax(1)\n",
    "sample_weights_val = np.array(list(map(weight_dict.get, temp)))"
   ]
  },
  {
   "cell_type": "code",
   "execution_count": null,
   "metadata": {},
   "outputs": [],
   "source": [
    "from keras.applications.densenet import preprocess_input\n",
    "imageListUltra = preprocess_input(imageListUltra)\n",
    "imageValList = preprocess_input(imageValList)\n",
    "testList = preprocess_input(testList)"
   ]
  },
  {
   "cell_type": "code",
   "execution_count": null,
   "metadata": {},
   "outputs": [],
   "source": [
    "from sklearn.preprocessing import OneHotEncoder\n",
    "\n",
    "targetListUltra = OneHotEncoder().fit_transform(targetListUltra.reshape(-1,1))"
   ]
  },
  {
   "cell_type": "code",
   "execution_count": null,
   "metadata": {},
   "outputs": [],
   "source": [
    "model.compile(optimizer=Adam(lr=0.0001), loss='categorical_crossentropy',\n",
    "              metrics=[bacc_metric.balanced_acc])\n",
    "historyfile = model.fit(imageListUltra, targetListUltra, batch_size=32, epochs=1, verbose=0,\n",
    "          sample_weight=sample_weights,\n",
    "          validation_data=(imageValList, targetValList, sample_weights_val), initial_epoch=0,\n",
    "          callbacks = [TQDMNotebookCallback(leave_inner=True)])\n"
   ]
  },
  {
   "cell_type": "code",
   "execution_count": null,
   "metadata": {
    "scrolled": true
   },
   "outputs": [],
   "source": [
    "valMatrix()"
   ]
  },
  {
   "cell_type": "code",
   "execution_count": null,
   "metadata": {},
   "outputs": [],
   "source": [
    "testMatrix()"
   ]
  },
  {
   "cell_type": "code",
   "execution_count": null,
   "metadata": {},
   "outputs": [],
   "source": [
    "model.compile(optimizer=Adam(lr=0.00003), loss='categorical_crossentropy',\n",
    "              metrics=[bacc_metric.balanced_acc])\n",
    "historyfile = model.fit(imageListUltra, targetListUltra, batch_size=32, epochs=1, verbose=0,\n",
    "          sample_weight=sample_weights,\n",
    "          validation_data=(imageValList, targetValList, sample_weights_val), initial_epoch=0,\n",
    "          callbacks = [TQDMNotebookCallback(leave_inner=True)])\n"
   ]
  },
  {
   "cell_type": "code",
   "execution_count": null,
   "metadata": {},
   "outputs": [],
   "source": [
    "valMatrix()"
   ]
  },
  {
   "cell_type": "code",
   "execution_count": null,
   "metadata": {},
   "outputs": [],
   "source": [
    "testMatrix()"
   ]
  },
  {
   "cell_type": "raw",
   "metadata": {},
   "source": [
    "the model can be trained for more epochs/steps, e.g. until validation accuracy stops increasing"
   ]
  },
  {
   "cell_type": "code",
   "execution_count": null,
   "metadata": {},
   "outputs": [],
   "source": [
    "model.save(\"densenet201.h5\")"
   ]
  }
 ],
 "metadata": {
  "kernelspec": {
   "display_name": "Python 3",
   "language": "python",
   "name": "python3"
  },
  "language_info": {
   "codemirror_mode": {
    "name": "ipython",
    "version": 3
   },
   "file_extension": ".py",
   "mimetype": "text/x-python",
   "name": "python",
   "nbconvert_exporter": "python",
   "pygments_lexer": "ipython3",
   "version": "3.6.5"
  }
 },
 "nbformat": 4,
 "nbformat_minor": 2
}
