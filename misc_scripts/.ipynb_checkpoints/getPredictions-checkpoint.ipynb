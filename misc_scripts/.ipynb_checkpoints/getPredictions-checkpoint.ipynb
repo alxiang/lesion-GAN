{
 "cells": [
  {
   "cell_type": "code",
   "execution_count": null,
   "metadata": {},
   "outputs": [],
   "source": [
    "import keras\n",
    "import numpy as np\n",
    "import pandas as pd\n",
    "\n",
    "from tqdm import tqdm_notebook\n",
    "\n",
    "from keras import backend as K"
   ]
  },
  {
   "cell_type": "code",
   "execution_count": null,
   "metadata": {},
   "outputs": [],
   "source": [
    "# define metric\n",
    "from balancedAccuracy import balancedAccuracy\n",
    "num_classes = 3\n",
    "bacc_metric = balancedAccuracy(num_classes)"
   ]
  },
  {
   "cell_type": "code",
   "execution_count": null,
   "metadata": {},
   "outputs": [],
   "source": [
    "weights = [\"some model.h5\", \"other model.h5\"]\n"
   ]
  },
  {
   "cell_type": "code",
   "execution_count": null,
   "metadata": {},
   "outputs": [],
   "source": [
    "data = np.load(\"HAMAUG.npz\")\n",
    "\n",
    "imageValList = data[\"imageValList\"]\n",
    "targetValList = data[\"targetValList\"][:,:3]\n",
    "\n",
    "testData = np.load(\"TESTHAM.npz\")\n",
    "testList = testData[\"testList\"]\n",
    "targetTestList = testData[\"targetTestList\"]"
   ]
  },
  {
   "cell_type": "code",
   "execution_count": null,
   "metadata": {},
   "outputs": [],
   "source": [
    "# change preprocessing function depending on type of CNNs \n",
    "# (i.e. use different function for ResNet)\n",
    "\n",
    "from keras.applications.densenet import preprocess_input \n",
    "imageValList = preprocess_input(imageValList)\n",
    "testList = preprocess_input(testList)"
   ]
  },
  {
   "cell_type": "code",
   "execution_count": null,
   "metadata": {},
   "outputs": [],
   "source": [
    "# plot_confusion_matrix function\n",
    "import itertools\n",
    "import matplotlib.pyplot as plt\n",
    "from sklearn.metrics import confusion_matrix\n",
    "\n",
    "class_names = [\"MEL\", \"NV\", \"BKL\"]\n",
    "\n",
    "def plot_confusion_matrix(cm, classes,\n",
    "                          normalize=False,\n",
    "                          title='Confusion matrix',\n",
    "                          cmap=plt.cm.Blues):\n",
    "    \"\"\"\n",
    "    This function prints and plots the confusion matrix.\n",
    "    Normalization can be applied by setting `normalize=True`.\n",
    "    \"\"\"\n",
    "    if normalize:\n",
    "        cm = cm.astype('float') / cm.sum(axis=1)[:, np.newaxis]\n",
    "        print(\"Normalized confusion matrix\")\n",
    "    else:\n",
    "        print('Confusion matrix, without normalization')\n",
    "\n",
    "    print(np.mean(np.diag(cm)))\n",
    "        \n",
    "    plt.imshow(cm, interpolation='nearest', cmap=cmap)\n",
    "    plt.title(title)\n",
    "    plt.colorbar()\n",
    "    tick_marks = np.arange(len(classes))\n",
    "    plt.xticks(tick_marks, classes, rotation=45)\n",
    "    plt.yticks(tick_marks, classes)\n",
    "\n",
    "    fmt = '.2f' if normalize else 'd'\n",
    "    thresh = cm.max() / 2.\n",
    "    for i, j in itertools.product(range(cm.shape[0]), range(cm.shape[1])):\n",
    "        plt.text(j, i, format(cm[i, j], fmt),\n",
    "                 horizontalalignment=\"center\",\n",
    "                 color=\"white\" if cm[i, j] > thresh else \"black\")\n",
    "\n",
    "    plt.tight_layout()\n",
    "    plt.ylabel('True label')\n",
    "    plt.xlabel('Predicted label')\n",
    "    \n",
    "    # get balanced accuracy\n",
    "    return np.mean(np.diag(cm))\n",
    "    \n"
   ]
  },
  {
   "cell_type": "code",
   "execution_count": null,
   "metadata": {},
   "outputs": [],
   "source": [
    "def valMatrix():\n",
    "    y_test = targetValList.copy()\n",
    "    y_pred = model.predict(imageValList)\n",
    "    y_pred = y_pred.argmax(1)\n",
    "    y_test = y_test.argmax(1)\n",
    "\n",
    "    cnf_matrix = confusion_matrix(y_test, y_pred)\n",
    "    np.set_printoptions(precision=2)\n",
    "    plt.figure()\n",
    "    print(\"Balanced Accuracy: \"+ str(plot_confusion_matrix(cnf_matrix, classes=class_names, normalize=True,\n",
    "                          title='Normalized Validation confusion matrix')))\n",
    "    plt.show()\n",
    "\n",
    "def trainMatrix():\n",
    "    y_test = targetListUltra.copy()\n",
    "    y_pred = model.predict(imageListUltra)\n",
    "    y_pred = y_pred.argmax(1)\n",
    "    y_test = y_test.argmax(1)\n",
    "\n",
    "    cnf_matrix = confusion_matrix(y_test, y_pred)\n",
    "    np.set_printoptions(precision=2)\n",
    "    plt.figure()\n",
    "    print(\"Balanced Accuracy: \"+ str(plot_confusion_matrix(cnf_matrix, classes=class_names, normalize=True,\n",
    "                          title='Normalized Training confusion matrix')))\n",
    "    plt.show()\n",
    "    \n",
    "def testMatrix():\n",
    "    y_test = targetTestList.copy()\n",
    "    y_pred = model.predict(testList)\n",
    "    y_pred = y_pred.argmax(1)\n",
    "    y_test = y_test.argmax(1)\n",
    "\n",
    "    cnf_matrix = confusion_matrix(y_test, y_pred)\n",
    "    np.set_printoptions(precision=2)\n",
    "    plt.figure()\n",
    "    print(\"Balanced Accuracy: \"+ str(plot_confusion_matrix(cnf_matrix, classes=class_names, normalize=True,\n",
    "                          title='Normalized Training confusion matrix')))\n",
    "    plt.show()"
   ]
  },
  {
   "cell_type": "code",
   "execution_count": null,
   "metadata": {},
   "outputs": [],
   "source": [
    "for filename in tqdm_notebook(weights):\n",
    "    model = keras.models.load_model(filename,\n",
    "                               custom_objects={'balanced_acc':bacc_metric.balanced_acc})\n",
    "    valPredictions = pd.DataFrame(model.predict(imageValList))\n",
    "    testPredictions = pd.DataFrame(model.predict(testList))\n",
    "    \n",
    "    valPredictions.to_csv(filename[:-2]+\"-validation.csv\")\n",
    "    testPredictions.to_csv(filename[:-2]+\"-test.csv\")\n",
    "    \n",
    "    valMatrix()\n",
    "    \n",
    "    del model\n",
    "    K.clear_session()"
   ]
  }
 ],
 "metadata": {
  "kernelspec": {
   "display_name": "Python 3",
   "language": "python",
   "name": "python3"
  },
  "language_info": {
   "codemirror_mode": {
    "name": "ipython",
    "version": 3
   },
   "file_extension": ".py",
   "mimetype": "text/x-python",
   "name": "python",
   "nbconvert_exporter": "python",
   "pygments_lexer": "ipython3",
   "version": "3.6.5"
  }
 },
 "nbformat": 4,
 "nbformat_minor": 2
}
