{
 "cells": [
  {
   "cell_type": "raw",
   "metadata": {},
   "source": [
    "currently notebook configured to not use any data augmentation"
   ]
  },
  {
   "cell_type": "code",
   "execution_count": 1,
   "metadata": {},
   "outputs": [],
   "source": [
    "import pandas as pd\n",
    "import numpy as np\n",
    "from glob import glob"
   ]
  },
  {
   "cell_type": "code",
   "execution_count": 2,
   "metadata": {},
   "outputs": [],
   "source": [
    "TRAINAUG = pd.read_csv(\"Processed Images/NEWTRAIN/TRAINAUG.csv\", index_col=0).drop(\"origin\", axis=1)\n",
    "TRAIN = pd.read_csv(\"Processed Images/TRAINmod.csv\", index_col=0)#.drop(\"origin\", axis=1)\n",
    "TEST = pd.read_csv(\"Processed Images/TESTmod.csv\", index_col=0).drop(\"origin\", axis=1)"
   ]
  },
  {
   "cell_type": "code",
   "execution_count": 3,
   "metadata": {},
   "outputs": [],
   "source": [
    "TRAIN = TRAIN[TRAIN.origin==\"ISIC2018_Task3_Training_Input/\"].drop(\"origin\", axis=1)"
   ]
  },
  {
   "cell_type": "code",
   "execution_count": 4,
   "metadata": {},
   "outputs": [],
   "source": [
    "ALLTRAIN = pd.concat([TRAINAUG, TRAIN], sort=False)\n",
    "#ALLTRAIN = TRAIN"
   ]
  },
  {
   "cell_type": "code",
   "execution_count": 5,
   "metadata": {},
   "outputs": [
    {
     "data": {
      "text/plain": [
       "(35665, 3)"
      ]
     },
     "execution_count": 5,
     "metadata": {},
     "output_type": "execute_result"
    }
   ],
   "source": [
    "ALLTRAIN.shape"
   ]
  },
  {
   "cell_type": "code",
   "execution_count": 6,
   "metadata": {},
   "outputs": [
    {
     "data": {
      "text/plain": [
       "MEL     4450.0\n",
       "NV     26820.0\n",
       "BKL     4395.0\n",
       "dtype: float64"
      ]
     },
     "execution_count": 6,
     "metadata": {},
     "output_type": "execute_result"
    }
   ],
   "source": [
    "ALLTRAIN.sum()"
   ]
  },
  {
   "cell_type": "code",
   "execution_count": 7,
   "metadata": {},
   "outputs": [],
   "source": [
    "# numpy arrays for input and targets\n",
    "imageList = []\n",
    "targetList = []\n",
    "\n",
    "imageValList = []\n",
    "targetValList = []\n",
    "\n"
   ]
  },
  {
   "cell_type": "code",
   "execution_count": 8,
   "metadata": {},
   "outputs": [],
   "source": [
    "imageListPlain = []"
   ]
  },
  {
   "cell_type": "code",
   "execution_count": 9,
   "metadata": {},
   "outputs": [],
   "source": [
    "from tqdm import tqdm_notebook\n",
    "from skimage import io"
   ]
  },
  {
   "cell_type": "markdown",
   "metadata": {},
   "source": [
    "Fill in imageList and targetList with 4 folds"
   ]
  },
  {
   "cell_type": "code",
   "execution_count": 21,
   "metadata": {},
   "outputs": [
    {
     "data": {
      "application/vnd.jupyter.widget-view+json": {
       "model_id": "2ffb8846d92d4abcbaa1191f8b3be18b",
       "version_major": 2,
       "version_minor": 0
      },
      "text/plain": [
       "HBox(children=(IntProgress(value=0, max=7133), HTML(value='')))"
      ]
     },
     "metadata": {},
     "output_type": "display_data"
    },
    {
     "name": "stdout",
     "output_type": "stream",
     "text": [
      "\n"
     ]
    },
    {
     "data": {
      "text/plain": [
       "\"\\nfilelist = glob('Principal: Processed Images/NEWTRAIN/'+direc+'AUG/ISIC_*.jpg')\\nfor name in tqdm_notebook(filelist):\\n    if(name[46:58] in ALLTRAIN.index):\\n        imageList.append(io.imread(name))\\n        targetList.append(np.array(ALLTRAIN.loc[name[46:58]]))\\n        counter2+=1\\n\""
      ]
     },
     "execution_count": 21,
     "metadata": {},
     "output_type": "execute_result"
    }
   ],
   "source": [
    "#checkDirectories = [\"FOLD2\",\"FOLD3\",\"FOLD4\", \"FOLD5\"] # here exclude fold that you are training on\n",
    "counter1 = 0\n",
    "counter2 = 0\n",
    "\n",
    "\n",
    "filelist = glob('Principal: Processed Images/NEWTRAIN/'+direc+'AUG/ISIC_*.jpg')\n",
    "for name in tqdm_notebook(filelist):\n",
    "    if(name[35:47] in ALLTRAIN.index):\n",
    "        imageList.append(io.imread(name))\n",
    "        targetList.append(np.array(ALLTRAIN.loc[name[35:47]]))\n",
    "        counter2+=1"
   ]
  },
  {
   "cell_type": "markdown",
   "metadata": {},
   "source": [
    "Fill in imageValList and targetValList with remaining fold"
   ]
  },
  {
   "cell_type": "code",
   "execution_count": null,
   "metadata": {},
   "outputs": [],
   "source": [
    "filelist = glob('Processed Images/NEWTRAIN/FOLD1/ISIC_*.jpg')\n",
    "for name in tqdm_notebook(filelist):\n",
    "    if(name[32:44] in ALLTRAIN.index):\n",
    "        imageValList.append(io.imread(name))\n",
    "        targetValList.append(np.array(ALLTRAIN.loc[name[32:44]]))"
   ]
  },
  {
   "cell_type": "code",
   "execution_count": 24,
   "metadata": {},
   "outputs": [],
   "source": [
    "imageList = np.array(imageList)\n",
    "targetList = np.array(targetList)"
   ]
  },
  {
   "cell_type": "code",
   "execution_count": 25,
   "metadata": {},
   "outputs": [
    {
     "data": {
      "text/plain": [
       "((7133, 256, 256, 3), (7133, 3))"
      ]
     },
     "execution_count": 25,
     "metadata": {},
     "output_type": "execute_result"
    }
   ],
   "source": [
    "imageList.shape, targetList.shape#, imageValList.shape, targetValList.shape"
   ]
  },
  {
   "cell_type": "markdown",
   "metadata": {},
   "source": [
    "Compute weights for CNNs:\n",
    "\n",
    "(weight of class) = (total number of samples)/(number of samples in class)"
   ]
  },
  {
   "cell_type": "code",
   "execution_count": null,
   "metadata": {},
   "outputs": [],
   "source": [
    "np.sum(targetList, axis = 0)/np.sum(targetList)"
   ]
  },
  {
   "cell_type": "code",
   "execution_count": null,
   "metadata": {},
   "outputs": [],
   "source": [
    "np.sum(targetValList, axis = 0)/np.sum(targetValList)"
   ]
  },
  {
   "cell_type": "code",
   "execution_count": null,
   "metadata": {},
   "outputs": [],
   "source": [
    "targetList"
   ]
  },
  {
   "cell_type": "code",
   "execution_count": null,
   "metadata": {},
   "outputs": [],
   "source": [
    "np.repeat(np.sum(targetList), 3)/np.sum(targetList, axis=0)"
   ]
  },
  {
   "cell_type": "code",
   "execution_count": null,
   "metadata": {},
   "outputs": [],
   "source": [
    "np.repeat(np.sum(targetValList), 3)/np.sum(targetValList, axis=0)"
   ]
  },
  {
   "cell_type": "code",
   "execution_count": 26,
   "metadata": {},
   "outputs": [],
   "source": [
    "#np.save(\"targetList\", targetList)\n",
    "#np.save(\"imageValList\", imageValList)\n",
    "#np.save(\"targetValList\", targetValList)"
   ]
  },
  {
   "cell_type": "code",
   "execution_count": null,
   "metadata": {},
   "outputs": [],
   "source": [
    "targetValList.shape"
   ]
  },
  {
   "cell_type": "code",
   "execution_count": null,
   "metadata": {},
   "outputs": [],
   "source": [
    "np.mean(imageList, axis = tuple(range(imageList.ndim-1)))"
   ]
  },
  {
   "cell_type": "code",
   "execution_count": null,
   "metadata": {},
   "outputs": [],
   "source": [
    "np.mean(imageValList, axis = tuple(range(imageValList.ndim-1)))"
   ]
  },
  {
   "cell_type": "code",
   "execution_count": null,
   "metadata": {},
   "outputs": [],
   "source": [
    "imageListPlain = np.array(imageListPlain)\n",
    "np.mean(imageListPlain, axis = tuple(range(imageListPlain.ndim-1)))"
   ]
  },
  {
   "cell_type": "markdown",
   "metadata": {},
   "source": [
    "## Prep TEST Folder"
   ]
  },
  {
   "cell_type": "code",
   "execution_count": 27,
   "metadata": {},
   "outputs": [],
   "source": [
    "testList = []\n",
    "targetTestList = []"
   ]
  },
  {
   "cell_type": "code",
   "execution_count": 28,
   "metadata": {},
   "outputs": [
    {
     "data": {
      "text/plain": [
       "MEL     223.0\n",
       "NV     1341.0\n",
       "BKL     220.0\n",
       "dtype: float64"
      ]
     },
     "execution_count": 28,
     "metadata": {},
     "output_type": "execute_result"
    }
   ],
   "source": [
    "TEST.sum()"
   ]
  },
  {
   "cell_type": "code",
   "execution_count": 32,
   "metadata": {},
   "outputs": [
    {
     "data": {
      "application/vnd.jupyter.widget-view+json": {
       "model_id": "b14b1030187f49358f99b11032cc180f",
       "version_major": 2,
       "version_minor": 0
      },
      "text/plain": [
       "HBox(children=(IntProgress(value=0, max=1784), HTML(value='')))"
      ]
     },
     "metadata": {},
     "output_type": "display_data"
    },
    {
     "name": "stdout",
     "output_type": "stream",
     "text": [
      "\n"
     ]
    }
   ],
   "source": [
    "filelist = glob('Processed Images/TEST/ISIC_*.jpg')\n",
    "for name in tqdm_notebook(filelist):\n",
    "    testList.append(io.imread(name))\n",
    "    targetTestList.append(np.array(TEST.loc[name[22:34]])) "
   ]
  },
  {
   "cell_type": "code",
   "execution_count": 33,
   "metadata": {},
   "outputs": [],
   "source": [
    "testList = np.array(testList)\n",
    "targetTestList = np.array(targetTestList)"
   ]
  },
  {
   "cell_type": "code",
   "execution_count": null,
   "metadata": {},
   "outputs": [],
   "source": [
    "np.mean(testList, axis = tuple(range(testList.ndim-1)))"
   ]
  },
  {
   "cell_type": "code",
   "execution_count": 36,
   "metadata": {},
   "outputs": [
    {
     "data": {
      "text/plain": [
       "((1785, 256, 256, 3), (1784, 3))"
      ]
     },
     "execution_count": 36,
     "metadata": {},
     "output_type": "execute_result"
    }
   ],
   "source": [
    "testList.shape, targetTestList.shape"
   ]
  },
  {
   "cell_type": "code",
   "execution_count": null,
   "metadata": {},
   "outputs": [],
   "source": [
    "np.sum(targetTestList, axis = 0)/np.sum(targetTestList)"
   ]
  },
  {
   "cell_type": "code",
   "execution_count": null,
   "metadata": {},
   "outputs": [],
   "source": [
    "np.repeat(np.sum(targetTestList), 3)/np.sum(targetTestList, axis=0)"
   ]
  },
  {
   "cell_type": "code",
   "execution_count": 37,
   "metadata": {},
   "outputs": [],
   "source": [
    "np.savez_compressed(\"\", testList=testList, targetTestList=targetTestList)\n"
   ]
  },
  {
   "cell_type": "markdown",
   "metadata": {},
   "source": [
    "## Check HAM mean values"
   ]
  },
  {
   "cell_type": "code",
   "execution_count": null,
   "metadata": {},
   "outputs": [],
   "source": [
    "veryPlain = []\n",
    "\n",
    "# keep origin\n",
    "TRAIN = pd.read_csv(\"Processed Images/TRAIN.csv\", index_col=0)\n",
    "\n",
    "checkDirectories = [\"FOLD2\",\"FOLD3\",\"FOLD4\", \"FOLD5\"] # here exclude fold that you are training on\n",
    "for direc in tqdm_notebook(checkDirectories):\n",
    "    filelist = glob('Processed Images/NEWTRAIN/'+direc+'/ISIC_*.jpg')\n",
    "    for name in tqdm_notebook(filelist):\n",
    "        if(TRAIN.loc[name[32:44]][\"origin\"]==\"ISIC2018_Task3_Training_Input/\"):\n",
    "            veryPlain.append(io.imread(name))"
   ]
  },
  {
   "cell_type": "code",
   "execution_count": null,
   "metadata": {},
   "outputs": [],
   "source": [
    "veryPlain = np.array(veryPlain)"
   ]
  },
  {
   "cell_type": "code",
   "execution_count": null,
   "metadata": {},
   "outputs": [],
   "source": [
    "np.mean(veryPlain, axis = tuple(range(veryPlain.ndim-1)))"
   ]
  }
 ],
 "metadata": {
  "kernelspec": {
   "display_name": "Python 3",
   "language": "python",
   "name": "python3"
  },
  "language_info": {
   "codemirror_mode": {
    "name": "ipython",
    "version": 3
   },
   "file_extension": ".py",
   "mimetype": "text/x-python",
   "name": "python",
   "nbconvert_exporter": "python",
   "pygments_lexer": "ipython3",
   "version": "3.6.5"
  }
 },
 "nbformat": 4,
 "nbformat_minor": 2
}
